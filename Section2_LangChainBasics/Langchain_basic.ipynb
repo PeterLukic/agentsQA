{
 "cells": [
  {
   "cell_type": "markdown",
   "id": "596b9942",
   "metadata": {},
   "source": [
    "### Lang Chain Basics "
   ]
  },
  {
   "cell_type": "code",
   "execution_count": null,
   "id": "9b465f59",
   "metadata": {},
   "outputs": [],
   "source": [
    "#!pip install langchain\n",
    "#!pip install langchain-openai\n",
    "#!pip install -U langchain-ollamma"
   ]
  },
  {
   "cell_type": "markdown",
   "id": "6ab92541",
   "metadata": {},
   "source": [
    "### Create Chat Ollama Model"
   ]
  },
  {
   "cell_type": "code",
   "execution_count": null,
   "id": "8407b9b2",
   "metadata": {},
   "outputs": [],
   "source": [
    "from langchain_ollama import ChatOllama\n",
    "llm = ChatOllama(model=\"gemma3:1b\", base_url=\"http://localhost:11434\")"
   ]
  },
  {
   "cell_type": "markdown",
   "id": "d47a5565",
   "metadata": {},
   "source": [
    "### Call ollama model"
   ]
  },
  {
   "cell_type": "code",
   "execution_count": null,
   "id": "38c14fd4",
   "metadata": {},
   "outputs": [],
   "source": [
    "response = llm.invoke(\"What is the capital of Serbia? And Kosovo is part of Serbia !!!\")\n",
    "print(response.content)"
   ]
  },
  {
   "cell_type": "code",
   "execution_count": null,
   "id": "342b7d21",
   "metadata": {},
   "outputs": [],
   "source": [
    "response = llm.invoke(\"What is the capital city of Serbia?. *Zagreb, *Belgrade, *Sarajevo. Can you reposne me in json format like answers and value if is true or false of this 3 choices?\" )\n",
    "print(response.content)"
   ]
  },
  {
   "cell_type": "markdown",
   "id": "5d4b3947",
   "metadata": {},
   "source": [
    "### Straming the reposne "
   ]
  },
  {
   "cell_type": "code",
   "execution_count": null,
   "id": "79790a8d",
   "metadata": {},
   "outputs": [],
   "source": [
    "for chuch in llm.stream(\"What is the capital of Serbia? And Kosovo is part of Serbia !!!\"):\n",
    "    print(chuch.content, end='', flush=True)"
   ]
  },
  {
   "cell_type": "markdown",
   "id": "2d29df6f",
   "metadata": {},
   "source": [
    "### Uderstanding Prompt Templates"
   ]
  },
  {
   "cell_type": "code",
   "execution_count": null,
   "id": "3c83b2bf",
   "metadata": {},
   "outputs": [],
   "source": [
    "from langchain.prompts import PromptTemplate\n",
    "prompt_template = PromptTemplate.from_template(\"What is the capital of {country}?\")\n",
    "prompt = prompt_template.format(country=\"Serbia\")  \n",
    "response = llm.invoke(prompt)\n",
    "print(response.content)\n"
   ]
  },
  {
   "cell_type": "markdown",
   "id": "83091d83",
   "metadata": {},
   "source": [
    "### LangChain  Chaining mechanism\n"
   ]
  },
  {
   "cell_type": "code",
   "execution_count": null,
   "id": "9efedb36",
   "metadata": {},
   "outputs": [],
   "source": [
    "from langchain.prompts import PromptTemplate\n",
    "prompt_template = PromptTemplate.from_template(\"What is the capital of {country}?\")\n",
    "chain = prompt_template | llm\n",
    "results = chain.invoke({'country':\"Serbia\"})\n",
    "print(results.content)"
   ]
  },
  {
   "cell_type": "markdown",
   "id": "c12d4dc7",
   "metadata": {},
   "source": [
    "### Chaining with Parsers   "
   ]
  },
  {
   "cell_type": "code",
   "execution_count": null,
   "id": "64dd52cb",
   "metadata": {},
   "outputs": [],
   "source": [
    "from langchain.prompts import PromptTemplate\n",
    "from langchain_core.output_parsers import StrOutputParser\n",
    "\n",
    "prompt_template = PromptTemplate.from_template(\"What is the role of {type} in Software Testing ? \")\n",
    "chain = prompt_template | llm | StrOutputParser()\n",
    "results = chain.invoke({'type':\"AI\"})\n",
    "print(results)"
   ]
  },
  {
   "cell_type": "code",
   "execution_count": null,
   "id": "83e1fd1a",
   "metadata": {},
   "outputs": [],
   "source": [
    "from langchain.prompts import PromptTemplate\n",
    "from langchain_core.output_parsers import JsonOutputParser\n",
    "\n",
    "prompt_template = PromptTemplate.from_template(\"What is the role of {type} in Software Testing? Please answer in JSON format\")\n",
    "chain = prompt_template | llm | JsonOutputParser()\n",
    "results = chain.invoke({'type':\"AI\"})\n",
    "print(results)"
   ]
  },
  {
   "cell_type": "code",
   "execution_count": null,
   "id": "62dc778a",
   "metadata": {},
   "outputs": [],
   "source": [
    "from langchain.text_splitter import RecursiveCharacterTextSplitter\n",
    "from langchain.prompts import PromptTemplate\n",
    "from langchain_community.vectorstores import Chroma\n",
    "from langchain_ollama import ChatOllama, OllamaEmbeddings\n",
    "\n",
    "# 1. Dokumenti\n",
    "documents = [\n",
    "    \"Serbia is a country located in Southeast Europe, on the Balkan Peninsula. Its capital is Belgrade.\",\n",
    "    \"Greece is a country in Southern Europe. Its capital is Athens.\",\n",
    "    \"France is a country in Western Europe. Its capital is Paris.\"\n",
    "]\n",
    "\n",
    "# 2. Split on chunks\n",
    "splitter = RecursiveCharacterTextSplitter(chunk_size=100, chunk_overlap=20)\n",
    "split_docs = splitter.create_documents(documents)\n",
    "\n",
    "# 3. Embeddings sa posebnim embedding modelom\n",
    "embeddings = OllamaEmbeddings(model=\"nomic-embed-text\", base_url=\"http://localhost:11434\")\n",
    "\n",
    "# 4. Chroma base\n",
    "vectorstore = Chroma.from_documents(split_docs, embeddings, persist_directory=\"./chroma_db\")\n",
    "vectorstore.persist()\n",
    "\n",
    "# 5. Query\n",
    "query = \"What is the capital of Serbia?\"\n",
    "retrieved_docs = vectorstore.similarity_search(query, k=2)\n",
    "\n",
    "# 6. Prompt\n",
    "prompt_template = PromptTemplate.from_template(\n",
    "    \"Use the following information to answer the question.\\n\\n\"\n",
    "    \"Context:\\n{context}\\n\\n\"\n",
    "    \"Question: {question}\\n\"\n",
    "    \"Answer:\"\n",
    ")\n",
    "context = \"\\n\".join([doc.page_content for doc in retrieved_docs])\n",
    "\n",
    "# 7. LLM (Chat)\n",
    "llm = ChatOllama(model=\"gemma3:1b\", base_url=\"http://localhost:11434\")\n",
    "\n",
    "# 8. Finalni upit\n",
    "final_prompt = prompt_template.format(context=context, question=query)\n",
    "response = llm.invoke(final_prompt)\n",
    "\n",
    "print(\"Question:\", query)\n",
    "print(\"Answer:\", response.content)\n"
   ]
  }
 ],
 "metadata": {
  "kernelspec": {
   "display_name": ".venv (3.12.6)",
   "language": "python",
   "name": "python3"
  },
  "language_info": {
   "codemirror_mode": {
    "name": "ipython",
    "version": 3
   },
   "file_extension": ".py",
   "mimetype": "text/x-python",
   "name": "python",
   "nbconvert_exporter": "python",
   "pygments_lexer": "ipython3",
   "version": "3.12.6"
  }
 },
 "nbformat": 4,
 "nbformat_minor": 5
}
