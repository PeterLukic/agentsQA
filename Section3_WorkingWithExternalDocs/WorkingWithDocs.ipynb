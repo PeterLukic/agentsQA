{
 "cells": [
  {
   "cell_type": "code",
   "execution_count": 1,
   "id": "5df47c7a",
   "metadata": {},
   "outputs": [],
   "source": [
    "#!pip install langchai-community\n",
    "#!pip install unstructured\n",
    "#!pip install pdfminer\n",
    "#!pip install --upgrade \"unstructured[pdf]\""
   ]
  },
  {
   "cell_type": "code",
   "execution_count": null,
   "id": "fa5f7285",
   "metadata": {},
   "outputs": [],
   "source": [
    "import os\n",
    "from langchain_community.document_loaders import (UnstructuredPDFLoader)\n",
    "docs_folder = \"./Docs\"\n",
    "documents = []\n",
    "\n",
    "for filename in os.listdir(docs_folder):\n",
    "    filepath = os.path.join(docs_folder, filename)\n",
    "    #print(f\"Files {filepath}\")\n",
    "    loader = UnstructuredPDFLoader(filepath)\n",
    "    #loader.load()\n",
    "    documents.extend(loader.load())\n"
   ]
  },
  {
   "cell_type": "markdown",
   "id": "26eb3dcb",
   "metadata": {},
   "source": [
    "### Chucking the text into smaller parts that can be useful for procesing large documents. \n"
   ]
  },
  {
   "cell_type": "code",
   "execution_count": null,
   "id": "64deecf4",
   "metadata": {},
   "outputs": [],
   "source": [
    "from langchain.text_splitter import RecursiveCharacterTextSplitter\n",
    "\n",
    "splitter = RecursiveCharacterTextSplitter(\n",
    "    chunk_size=300,\n",
    "    chunk_overlap=50\n",
    ")\n",
    "chunks = splitter.split_documents(documents)\n",
    "\n",
    "for i, chunk in enumerate(chunks):\n",
    "    print(f\"Chunk {i+1}:\")\n",
    "    print(chunk.page_content)\n",
    "    print(\"\\n---\\n\")    "
   ]
  }
 ],
 "metadata": {
  "kernelspec": {
   "display_name": ".venv (3.12.6)",
   "language": "python",
   "name": "python3"
  },
  "language_info": {
   "codemirror_mode": {
    "name": "ipython",
    "version": 3
   },
   "file_extension": ".py",
   "mimetype": "text/x-python",
   "name": "python",
   "nbconvert_exporter": "python",
   "pygments_lexer": "ipython3",
   "version": "3.12.6"
  }
 },
 "nbformat": 4,
 "nbformat_minor": 5
}
