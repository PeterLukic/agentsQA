{
 "cells": [
  {
   "cell_type": "code",
   "execution_count": 1,
   "id": "5df47c7a",
   "metadata": {},
   "outputs": [],
   "source": [
    "#!pip install langchai-community\n",
    "#!pip install unstructured\n",
    "#!pip install pdfminer\n",
    "#!pip install --upgrade \"unstructured[pdf]\"\n",
    "#!pip install chromadb"
   ]
  },
  {
   "cell_type": "code",
   "execution_count": null,
   "id": "fa5f7285",
   "metadata": {},
   "outputs": [],
   "source": [
    "import os\n",
    "from langchain_community.document_loaders import (UnstructuredPDFLoader)\n",
    "docs_folder = \"./Docs\"\n",
    "documents = []\n",
    "\n",
    "for filename in os.listdir(docs_folder):\n",
    "    filepath = os.path.join(docs_folder, filename)\n",
    "    #print(f\"Files {filepath}\")\n",
    "    loader = UnstructuredPDFLoader(filepath)\n",
    "    #loader.load()\n",
    "    documents.extend(loader.load())\n"
   ]
  },
  {
   "cell_type": "markdown",
   "id": "26eb3dcb",
   "metadata": {},
   "source": [
    "### Chucking the text into smaller parts that can be useful for procesing large documents. \n"
   ]
  },
  {
   "cell_type": "code",
   "execution_count": null,
   "id": "64deecf4",
   "metadata": {},
   "outputs": [],
   "source": [
    "from langchain.text_splitter import RecursiveCharacterTextSplitter\n",
    "\n",
    "splitter = RecursiveCharacterTextSplitter(\n",
    "    chunk_size=300,\n",
    "    chunk_overlap=50\n",
    ")\n",
    "\n",
    "chunks = splitter.split_documents(documents)\n",
    "\n",
    "for i, chunk in enumerate(chunks):\n",
    "    print(f\"Chunk {i+1}:\")\n",
    "    print(chunk.page_content)\n",
    "    print(\"\\n---\\n\")    "
   ]
  },
  {
   "cell_type": "markdown",
   "id": "0fb3b6b1",
   "metadata": {},
   "source": [
    "### Embedding Documents\n"
   ]
  },
  {
   "cell_type": "code",
   "execution_count": 4,
   "id": "3cf6ef63",
   "metadata": {},
   "outputs": [
    {
     "name": "stderr",
     "output_type": "stream",
     "text": [
      "C:\\Users\\Korisnik\\AppData\\Local\\Temp\\ipykernel_20848\\2339370891.py:4: LangChainDeprecationWarning: The class `OllamaEmbeddings` was deprecated in LangChain 0.3.1 and will be removed in 1.0.0. An updated version of the class exists in the :class:`~langchain-ollama package and should be used instead. To use it run `pip install -U :class:`~langchain-ollama` and import as `from :class:`~langchain_ollama import OllamaEmbeddings``.\n",
      "  embedding = OllamaEmbeddings(model=\"nomic-embed-text\")\n"
     ]
    }
   ],
   "source": [
    "from langchain.embeddings import OllamaEmbeddings\n",
    "from langchain_community.vectorstores import Chroma\n",
    "\n",
    "embedding = OllamaEmbeddings(model=\"nomic-embed-text\")\n",
    "db = Chroma.from_documents(chunks, embedding,persist_directory=\"qa_db\")\n",
    "\n",
    "retriever = db.as_retriever()\n",
    "\n"
   ]
  },
  {
   "cell_type": "code",
   "execution_count": 5,
   "id": "1b93ab5d",
   "metadata": {},
   "outputs": [],
   "source": [
    "from langchain_ollama import ChatOllama\n",
    "llm = ChatOllama(model=\"gemma3:1b\", base_url=\"http://localhost:11434\")"
   ]
  },
  {
   "cell_type": "markdown",
   "id": "ae2948bc",
   "metadata": {},
   "source": [
    "### Retrieval QA"
   ]
  },
  {
   "cell_type": "code",
   "execution_count": 12,
   "id": "42909a7d",
   "metadata": {},
   "outputs": [
    {
     "name": "stdout",
     "output_type": "stream",
     "text": [
      "Question: Is 2017 the year you launched your newsletter, or had you published them earlier?\n",
      "Answer: According to the text, 2017 is the year you launched the newsletter.\n"
     ]
    }
   ],
   "source": [
    "from langchain.chains import RetrievalQA\n",
    "qa_chain = RetrievalQA.from_chain_type(llm=llm, retriever=retriever)\n",
    "\n",
    "question = \"Is 2017 the year you launched your newsletter, or had you published them earlier?\"\n",
    "answer = qa_chain.run(question) \n",
    "print(\"Question:\", question)\n",
    "print(\"Answer:\", answer)"
   ]
  }
 ],
 "metadata": {
  "kernelspec": {
   "display_name": ".venv (3.12.6)",
   "language": "python",
   "name": "python3"
  },
  "language_info": {
   "codemirror_mode": {
    "name": "ipython",
    "version": 3
   },
   "file_extension": ".py",
   "mimetype": "text/x-python",
   "name": "python",
   "nbconvert_exporter": "python",
   "pygments_lexer": "ipython3",
   "version": "3.12.6"
  }
 },
 "nbformat": 4,
 "nbformat_minor": 5
}
