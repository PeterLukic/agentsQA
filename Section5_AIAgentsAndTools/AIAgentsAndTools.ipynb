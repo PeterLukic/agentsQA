{
 "cells": [
  {
   "cell_type": "markdown",
   "id": "cff8749b",
   "metadata": {},
   "source": [
    "### Working with AI Agents And Tools "
   ]
  },
  {
   "cell_type": "code",
   "execution_count": null,
   "id": "08b1530a",
   "metadata": {},
   "outputs": [],
   "source": [
    "#!pip install --upgrade --quiet  wikipedia\n",
    "#python -m pip install --upgrade wikipedia"
   ]
  },
  {
   "cell_type": "code",
   "execution_count": 3,
   "id": "2d12030d",
   "metadata": {},
   "outputs": [],
   "source": [
    "from langchain_ollama import ChatOllama\n",
    "llm = ChatOllama(model=\"gemma3:1b\", base_url=\"http://localhost:11434\")"
   ]
  },
  {
   "cell_type": "code",
   "execution_count": null,
   "id": "e344b2ec",
   "metadata": {},
   "outputs": [],
   "source": [
    "from langchain.agents import initialize_agent, load_tools, AgentType\n",
    "tools = load_tools([\"wikipedia\"], llm=llm)\n",
    "agent = initialize_agent(tools, llm, agent=AgentType.ZERO_SHOT_REACT_DESCRIPTION, verbose=True)\n",
    "\n",
    "for chunk in agent.stream(\"Use wikipedia to explain what AI agents are and what tools they use.\"): \n",
    "    print(chunk, end='', flush=True)"
   ]
  },
  {
   "cell_type": "markdown",
   "id": "c9320f7c",
   "metadata": {},
   "source": [
    "### Building simple Agent"
   ]
  },
  {
   "cell_type": "code",
   "execution_count": 7,
   "id": "ad8c004a",
   "metadata": {},
   "outputs": [
    {
     "name": "stdout",
     "output_type": "stream",
     "text": [
      "\n",
      "\n",
      "\u001b[1m> Entering new AgentExecutor chain...\u001b[0m\n",
      "\u001b[32;1m\u001b[1;3m```json\n",
      "{\n",
      "  \"action\": \"Final Answer\",\n",
      "  \"action_input\": \"The sum of 20 and 30 is 50. 100 less 45 is 55.\"\n",
      "}\n",
      "```\n",
      "\u001b[0m\n",
      "\n",
      "\u001b[1m> Finished chain.\u001b[0m\n",
      "The final result is: The sum of 20 and 30 is 50. 100 less 45 is 55.\n"
     ]
    }
   ],
   "source": [
    "from langchain.agents import initialize_agent, AgentType\n",
    "from langchain.tools import tool\n",
    "\n",
    "# Define tools\n",
    "@tool\n",
    "def add_number(a: int, b: int) -> int:\n",
    "    \"\"\"Add two numbers and return the result\"\"\"\n",
    "    return int(a) + int(b)\n",
    "\n",
    "@tool\n",
    "def substract_number(a: int, b: int) -> int:\n",
    "    \"\"\"Subtract two numbers and return the result\"\"\"\n",
    "    return int(a) - int(b)\n",
    "\n",
    "@tool\n",
    "def multiply_number(a: int, b: int) -> int:\n",
    "    \"\"\"Multiply two numbers and return the result\"\"\"\n",
    "    return int(a) * int(b)\n",
    "\n",
    "# Register tools\n",
    "tools = [add_number, substract_number, multiply_number]\n",
    "\n",
    "# Create agent (use structured chat to support multi-input tools)\n",
    "agent = initialize_agent(\n",
    "    tools=tools,\n",
    "    llm=llm,\n",
    "    agent=AgentType.STRUCTURED_CHAT_ZERO_SHOT_REACT_DESCRIPTION,\n",
    "    verbose=True\n",
    ")\n",
    "\n",
    "# Run query\n",
    "query = \"What is the sum of 20 and 30 and what is 100 less 45?\"\n",
    "answer = agent.run(query)\n",
    "print(\"The final result is:\", answer)\n"
   ]
  }
 ],
 "metadata": {
  "kernelspec": {
   "display_name": ".venv (3.12.6)",
   "language": "python",
   "name": "python3"
  },
  "language_info": {
   "codemirror_mode": {
    "name": "ipython",
    "version": 3
   },
   "file_extension": ".py",
   "mimetype": "text/x-python",
   "name": "python",
   "nbconvert_exporter": "python",
   "pygments_lexer": "ipython3",
   "version": "3.12.6"
  }
 },
 "nbformat": 4,
 "nbformat_minor": 5
}
