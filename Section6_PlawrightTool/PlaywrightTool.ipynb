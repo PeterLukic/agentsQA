{
 "cells": [
  {
   "cell_type": "markdown",
   "id": "4748b7bd",
   "metadata": {},
   "source": [
    "### Working with Playwright Tool "
   ]
  },
  {
   "cell_type": "code",
   "execution_count": null,
   "id": "ef3247ce",
   "metadata": {},
   "outputs": [
    {
     "name": "stdout",
     "output_type": "stream",
     "text": [
      "Note: you may need to restart the kernel to use updated packages.\n"
     ]
    }
   ],
   "source": [
    "#%pip install --upgrade --quiet  playwright"
   ]
  },
  {
   "cell_type": "code",
   "execution_count": 3,
   "id": "8a71fe40",
   "metadata": {},
   "outputs": [],
   "source": [
    "from langchain_ollama import ChatOllama\n",
    "llm = ChatOllama(model=\"gemma3:1b\", base_url=\"http://localhost:11434\")"
   ]
  },
  {
   "cell_type": "code",
   "execution_count": 4,
   "id": "5bea0964",
   "metadata": {},
   "outputs": [],
   "source": [
    "from langchain_community.agent_toolkits import PlayWrightBrowserToolkit\n",
    "from langchain_community.tools.playwright.utils import (\n",
    "    create_async_playwright_browser,  \n",
    ")\n",
    "\n",
    "import nest_asyncio\n",
    "nest_asyncio.apply()"
   ]
  }
 ],
 "metadata": {
  "kernelspec": {
   "display_name": ".venv (3.12.6)",
   "language": "python",
   "name": "python3"
  },
  "language_info": {
   "codemirror_mode": {
    "name": "ipython",
    "version": 3
   },
   "file_extension": ".py",
   "mimetype": "text/x-python",
   "name": "python",
   "nbconvert_exporter": "python",
   "pygments_lexer": "ipython3",
   "version": "3.12.6"
  }
 },
 "nbformat": 4,
 "nbformat_minor": 5
}
