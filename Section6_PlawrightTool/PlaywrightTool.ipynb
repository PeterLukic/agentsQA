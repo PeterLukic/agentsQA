{
 "cells": [
  {
   "cell_type": "markdown",
   "id": "4748b7bd",
   "metadata": {},
   "source": [
    "### Working with Playwright Tool "
   ]
  },
  {
   "cell_type": "code",
   "execution_count": 1,
   "id": "ef3247ce",
   "metadata": {},
   "outputs": [],
   "source": [
    "#%pip install --upgrade --quiet  playwright\n",
    "#python -m venv playwright_env\n",
    "#%pip install langchain-ollama\n",
    "#%pip install langchain-ollama playwright\n",
    "#%pip install --upgrade langchain-ollama\n",
    "#%pip install --upgrade playwright nest-asyncio\n",
    "#%pip install nest-asyncio playwright langchain-community\n",
    "\n",
    "#%pip install --upgrade --quiet  playwright > /dev/null\n",
    "#%pip install --upgrade --quiet  lxml\n",
    "#%pip install playwright\n",
    "#%pip install beautifulsoup4"
   ]
  },
  {
   "cell_type": "code",
   "execution_count": 2,
   "id": "8a71fe40",
   "metadata": {},
   "outputs": [],
   "source": [
    "from langchain_ollama import ChatOllama\n",
    "llm = ChatOllama(model=\"gemma3:1b\", base_url=\"http://localhost:11434\")"
   ]
  },
  {
   "cell_type": "markdown",
   "id": "58abe6c4",
   "metadata": {},
   "source": [
    "##### Get all Tools from PlaywrightTool"
   ]
  },
  {
   "cell_type": "code",
   "execution_count": null,
   "id": "5bc02f41",
   "metadata": {},
   "outputs": [],
   "source": [
    "async_browser = create_async_playwright_browser()\n",
    "toolkit = PlayWrightBrowserToolkit.from_browser(async_browser=async_browser)\n",
    "tools = toolkit.get_tools()\n",
    "tools"
   ]
  },
  {
   "cell_type": "code",
   "execution_count": null,
   "id": "2369834b",
   "metadata": {},
   "outputs": [],
   "source": [
    "tool_by_name = {tool.name: tool for tool in tools}\n",
    "navigate_tool = tool_by_name[\"navigate_browser\"]\n",
    "get_elements = tool_by_name[\"get_elements\"]\n",
    "navigate_tool"
   ]
  },
  {
   "cell_type": "code",
   "execution_count": null,
   "id": "c9a94ce8",
   "metadata": {},
   "outputs": [],
   "source": [
    "# Navigate to the URL\n",
    "await navigate_tool.arun({\"url\": \"https://www.w3schools.com/html/html_tables.asp\"})\n",
    "\n",
    "# Get table cell contents\n",
    "elements = await get_elements.arun({\"selector\": \"td\", \"attribute\": \"innerText\"})\n",
    "print(elements)"
   ]
  },
  {
   "cell_type": "markdown",
   "id": "d9ba2929",
   "metadata": {},
   "source": [
    "### Working With AI Agents\n"
   ]
  },
  {
   "cell_type": "code",
   "execution_count": null,
   "id": "f16320ff",
   "metadata": {},
   "outputs": [],
   "source": [
    "from langchain.agents import initialize_agent, AgentType\n",
    "\n",
    "agent = initialize_agent(\n",
    "    tools=tools,\n",
    "    llm=llm,\n",
    "    agent=AgentType.STRUCTURED_CHAT_ZERO_SHOT_REACT_DESCRIPTION,\n",
    "    verbose=True\n",
    ")\n",
    "\n",
    "query = \"Extract me all Countrys from https://www.w3schools.com/html/html_tables.asp page\"\n",
    "result = await agent.arun(query)\n",
    "print(result)"
   ]
  }
 ],
 "metadata": {
  "kernelspec": {
   "display_name": ".venv (3.12.6)",
   "language": "python",
   "name": "python3"
  },
  "language_info": {
   "codemirror_mode": {
    "name": "ipython",
    "version": 3
   },
   "file_extension": ".py",
   "mimetype": "text/x-python",
   "name": "python",
   "nbconvert_exporter": "python",
   "pygments_lexer": "ipython3",
   "version": "3.12.6"
  }
 },
 "nbformat": 4,
 "nbformat_minor": 5
}
