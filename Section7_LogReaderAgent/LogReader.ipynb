{
 "cells": [
  {
   "cell_type": "markdown",
   "id": "a521db72",
   "metadata": {},
   "source": [
    "### Log Reader  "
   ]
  },
  {
   "cell_type": "code",
   "execution_count": 1,
   "id": "6d822bc1",
   "metadata": {},
   "outputs": [],
   "source": [
    "from langchain_ollama import ChatOllama\n",
    "llm = ChatOllama(model=\"gemma3:1b\", base_url=\"http://localhost:11434\")"
   ]
  },
  {
   "cell_type": "markdown",
   "id": "20c32b6f",
   "metadata": {},
   "source": [
    "### Read the log file"
   ]
  },
  {
   "cell_type": "code",
   "execution_count": 2,
   "id": "34056597",
   "metadata": {},
   "outputs": [],
   "source": [
    "import os\n",
    "from langchain.tools import tool\n",
    "from langchain.embeddings import OllamaEmbeddings\n",
    "from langchain_community.vectorstores import Chroma\n",
    "from langchain.text_splitter import RecursiveCharacterTextSplitter\n",
    "\n",
    "@tool\n",
    "def summarize_log() -> str:\n",
    "    \"\"\"Read and return summary of the first few lines from each .log file. DON'T get into details of them.\"\"\"\n",
    "    log_dir = './logs'  # Fixed typo: was 'loog_dir'\n",
    "    db_path = \"./log_db\"\n",
    "    all_logs = []\n",
    "    \n",
    "    # Check if log directory exists\n",
    "    if not os.path.exists(log_dir):\n",
    "        return \"Log directory './logs' does not exist\"\n",
    "    \n",
    "    # Process each log file\n",
    "    for file in os.listdir(log_dir):\n",
    "        if file.endswith('.log'):  # Only process .log files\n",
    "            file_path = os.path.join(log_dir, file)  # Fixed variable name\n",
    "            try:\n",
    "                with open(file_path, 'r', encoding='utf-8') as f:  # Added encoding\n",
    "                    lines = f.readlines()[:10]  # Read first 10 lines\n",
    "                    for line in lines:\n",
    "                        all_logs.append(f\"{file}: {line.strip()}\")\n",
    "            except Exception as e:\n",
    "                all_logs.append(f\"{file}: Error reading file - {str(e)}\")\n",
    "    \n",
    "    summary = \"\\n\".join(all_logs) if all_logs else \"No log files found\"\n",
    "    \n",
    "    # Check if database already exists\n",
    "    if not (os.path.exists(db_path) and os.path.isdir(db_path)):\n",
    "        try:\n",
    "            # Splitting\n",
    "            splitter = RecursiveCharacterTextSplitter(chunk_size=300, chunk_overlap=50)\n",
    "            chunks = splitter.create_documents([summary])\n",
    "            \n",
    "            # Embedding\n",
    "            embedding = OllamaEmbeddings(model=\"nomic-embed-text\")\n",
    "            db = Chroma.from_documents(chunks, embedding, persist_directory=db_path)\n",
    "            db.persist()\n",
    "            summary += \"\\n\\n[Embedding] Done and DB created\"\n",
    "        except Exception as e:\n",
    "            summary += f\"\\n\\n[Embedding] Error creating DB: {str(e)}\"\n",
    "    else:\n",
    "        summary += \"\\n\\n[Embedding] DB already exists\"\n",
    "    \n",
    "    return summary"
   ]
  },
  {
   "cell_type": "code",
   "execution_count": null,
   "id": "c13366f5",
   "metadata": {},
   "outputs": [],
   "source": [
    "from langchain.agents import initialize_agent, AgentType\n",
    "from langchain.tools import tool\n",
    "\n",
    "# Define tools\n",
    "@tool\n",
    "def add_number(a: int, b: int) -> int:\n",
    "    \"\"\"Add two numbers and return the result\"\"\"\n",
    "    return int(a) + int(b)\n",
    "\n",
    "@tool\n",
    "def substract_number(a: int, b: int) -> int:\n",
    "    \"\"\"Subtract two numbers and return the result\"\"\"\n",
    "    return int(a) - int(b)\n",
    "\n",
    "@tool\n",
    "def multiply_number(a: int, b: int) -> int:\n",
    "    \"\"\"Multiply two numbers and return the result\"\"\"\n",
    "    return int(a) * int(b)\n",
    "\n",
    "# Register tools\n",
    "tools = [add_number, substract_number, multiply_number, summarize_log] \n",
    "\n",
    "# Create agent (use structured chat to support multi-input tools)\n",
    "agent = initialize_agent(\n",
    "    tools=tools,\n",
    "    llm=llm,\n",
    "    agent=AgentType.STRUCTURED_CHAT_ZERO_SHOT_REACT_DESCRIPTION,\n",
    "    verbose=True\n",
    ")"
   ]
  },
  {
   "cell_type": "code",
   "execution_count": null,
   "id": "e490e23a",
   "metadata": {},
   "outputs": [],
   "source": [
    "tool_by_name = {tool.name: tool for tool in tools}\n",
    "tool_by_name"
   ]
  },
  {
   "cell_type": "code",
   "execution_count": null,
   "id": "35f18162",
   "metadata": {},
   "outputs": [],
   "source": [
    "#query = \"What is the sum of 20 and 40\"\n",
    "#query = \"What are  errors in my log files? Summarize them for me.\"\n",
    "query = \"Hown WudfCoInstaller are in log file?\"\n",
    "\n",
    "results = agent.run(query)\n",
    "print(results)"
   ]
  }
 ],
 "metadata": {
  "kernelspec": {
   "display_name": ".venv (3.12.6)",
   "language": "python",
   "name": "python3"
  },
  "language_info": {
   "codemirror_mode": {
    "name": "ipython",
    "version": 3
   },
   "file_extension": ".py",
   "mimetype": "text/x-python",
   "name": "python",
   "nbconvert_exporter": "python",
   "pygments_lexer": "ipython3",
   "version": "3.12.6"
  }
 },
 "nbformat": 4,
 "nbformat_minor": 5
}
