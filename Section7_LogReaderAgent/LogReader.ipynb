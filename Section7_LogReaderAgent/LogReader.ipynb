{
 "cells": [
  {
   "cell_type": "markdown",
   "id": "a521db72",
   "metadata": {},
   "source": [
    "### Log Reader  "
   ]
  },
  {
   "cell_type": "code",
   "execution_count": null,
   "id": "6d822bc1",
   "metadata": {},
   "outputs": [],
   "source": [
    "from langchain_ollama import ChatOllama\n",
    "llm = ChatOllama(model=\"gemma3:1b\", base_url=\"http://localhost:11434\")"
   ]
  },
  {
   "cell_type": "markdown",
   "id": "20c32b6f",
   "metadata": {},
   "source": [
    "### Read the log file"
   ]
  },
  {
   "cell_type": "code",
   "execution_count": null,
   "id": "34056597",
   "metadata": {},
   "outputs": [],
   "source": [
    "import os\n",
    "from langchain.tools import tool\n",
    "from langchain.embeddings import OllamaEmbeddings\n",
    "from langchain_community.vectorstores import Chroma\n",
    "from langchain.text_splitter import RecursiveCharacterTextSplitter\n",
    "\n",
    "@tool\n",
    "def summarize_log() -> str:\n",
    "    \"\"\"Read and return summary of the first few lines from each .log file. DON'T get into details of them.\"\"\"\n",
    "    log_dir = './logs'  # Fixed typo: was 'loog_dir'\n",
    "    db_path = \"./log_db\"\n",
    "    all_logs = []\n",
    "    \n",
    "    # Check if log directory exists\n",
    "    if not os.path.exists(log_dir):\n",
    "        return \"Log directory './logs' does not exist\"\n",
    "    \n",
    "    # Process each log file\n",
    "    for file in os.listdir(log_dir):\n",
    "        if file.endswith('.log'):  # Only process .log files\n",
    "            file_path = os.path.join(log_dir, file)  # Fixed variable name\n",
    "            try:\n",
    "                with open(file_path, 'r', encoding='utf-8') as f:  # Added encoding\n",
    "                    lines = f.readlines()[:10]  # Read first 10 lines\n",
    "                    for line in lines:\n",
    "                        all_logs.append(f\"{file}: {line.strip()}\")\n",
    "            except Exception as e:\n",
    "                all_logs.append(f\"{file}: Error reading file - {str(e)}\")\n",
    "    \n",
    "    summary = \"\\n\".join(all_logs) if all_logs else \"No log files found\"\n",
    "    \n",
    "    # Check if database already exists\n",
    "    if not (os.path.exists(db_path) and os.path.isdir(db_path)):\n",
    "        try:\n",
    "            # Splitting\n",
    "            splitter = RecursiveCharacterTextSplitter(chunk_size=300, chunk_overlap=50)\n",
    "            chunks = splitter.create_documents([summary])\n",
    "            \n",
    "            # Embedding\n",
    "            embedding = OllamaEmbeddings(model=\"nomic-embed-text\")\n",
    "            db = Chroma.from_documents(chunks, embedding, persist_directory=db_path)\n",
    "            db.persist()\n",
    "            summary += \"\\n\\n[Embedding] Done and DB created\"\n",
    "        except Exception as e:\n",
    "            summary += f\"\\n\\n[Embedding] Error creating DB: {str(e)}\"\n",
    "    else:\n",
    "        summary += \"\\n\\n[Embedding] DB already exists\"\n",
    "    \n",
    "    return summary"
   ]
  },
  {
   "cell_type": "code",
   "execution_count": null,
   "id": "c13366f5",
   "metadata": {},
   "outputs": [],
   "source": [
    "from langchain.agents import initialize_agent, AgentType\n",
    "from langchain.tools import tool\n",
    "\n",
    "# Define tools\n",
    "@tool\n",
    "def add_number(a: int, b: int) -> int:\n",
    "    \"\"\"Add two numbers and return the result\"\"\"\n",
    "    return int(a) + int(b)\n",
    "\n",
    "@tool\n",
    "def substract_number(a: int, b: int) -> int:\n",
    "    \"\"\"Subtract two numbers and return the result\"\"\"\n",
    "    return int(a) - int(b)\n",
    "\n",
    "@tool\n",
    "def multiply_number(a: int, b: int) -> int:\n",
    "    \"\"\"Multiply two numbers and return the result\"\"\"\n",
    "    return int(a) * int(b)\n",
    "\n",
    "# Register tools\n",
    "tools = [add_number, substract_number, multiply_number, summarize_log] \n",
    "\n",
    "# Create agent (use structured chat to support multi-input tools)\n",
    "agent = initialize_agent(\n",
    "    tools=tools,\n",
    "    llm=llm,\n",
    "    agent=AgentType.STRUCTURED_CHAT_ZERO_SHOT_REACT_DESCRIPTION,\n",
    "    verbose=True\n",
    ")"
   ]
  },
  {
   "cell_type": "code",
   "execution_count": null,
   "id": "e490e23a",
   "metadata": {},
   "outputs": [],
   "source": [
    "tool_by_name = {tool.name: tool for tool in tools}\n",
    "tool_by_name"
   ]
  },
  {
   "cell_type": "code",
   "execution_count": null,
   "id": "35f18162",
   "metadata": {},
   "outputs": [
    {
     "ename": "NameError",
     "evalue": "name 'agent' is not defined",
     "output_type": "error",
     "traceback": [
      "\u001b[31m---------------------------------------------------------------------------\u001b[39m",
      "\u001b[31mNameError\u001b[39m                                 Traceback (most recent call last)",
      "\u001b[36mCell\u001b[39m\u001b[36m \u001b[39m\u001b[32mIn[1]\u001b[39m\u001b[32m, line 5\u001b[39m\n\u001b[32m      2\u001b[39m query = \u001b[33m\"\u001b[39m\u001b[33mWhat are   the errors in my logs?\u001b[39m\u001b[33m\"\u001b[39m\n\u001b[32m      3\u001b[39m \u001b[38;5;66;03m#query = \"Hown WudfCoInstaller are in log file?\"\u001b[39;00m\n\u001b[32m----> \u001b[39m\u001b[32m5\u001b[39m results = \u001b[43magent\u001b[49m.run(query)\n\u001b[32m      6\u001b[39m \u001b[38;5;28mprint\u001b[39m(results)\n",
      "\u001b[31mNameError\u001b[39m: name 'agent' is not defined"
     ]
    }
   ],
   "source": [
    "#query = \"What is the sum of 20 and 40\"\n",
    "query = \"What are the errors in my logs?\"\n",
    "#query = \"Hown WudfCoInstaller are in log file?\"\n",
    "\n",
    "results = agent.run(query)\n",
    "print(results)"
   ]
  }
 ],
 "metadata": {
  "kernelspec": {
   "display_name": ".venv (3.12.6)",
   "language": "python",
   "name": "python3"
  },
  "language_info": {
   "codemirror_mode": {
    "name": "ipython",
    "version": 3
   },
   "file_extension": ".py",
   "mimetype": "text/x-python",
   "name": "python",
   "nbconvert_exporter": "python",
   "pygments_lexer": "ipython3",
   "version": "3.12.6"
  }
 },
 "nbformat": 4,
 "nbformat_minor": 5
}
