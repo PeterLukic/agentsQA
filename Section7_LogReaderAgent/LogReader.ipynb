{
 "cells": [
  {
   "cell_type": "markdown",
   "id": "a521db72",
   "metadata": {},
   "source": [
    "### Log Reader  "
   ]
  },
  {
   "cell_type": "code",
   "execution_count": 1,
   "id": "6d822bc1",
   "metadata": {},
   "outputs": [],
   "source": [
    "from langchain_ollama import ChatOllama\n",
    "llm = ChatOllama(model=\"gemma3:1b\", base_url=\"http://localhost:11434\")"
   ]
  },
  {
   "cell_type": "markdown",
   "id": "20c32b6f",
   "metadata": {},
   "source": [
    "### Read the log file"
   ]
  },
  {
   "cell_type": "code",
   "execution_count": 2,
   "id": "34056597",
   "metadata": {},
   "outputs": [],
   "source": [
    "import os\n",
    "from langchain.tools import tool\n",
    "from langchain.embeddings import OllamaEmbeddings\n",
    "from langchain_community.vectorstores import Chroma\n",
    "from langchain.text_splitter import RecursiveCharacterTextSplitter\n",
    "\n",
    "@tool\n",
    "def summarize_log() -> str:\n",
    "    \"\"\"Read and return summary of the first few lines from each .log file. DON'T get into details of them.\"\"\"\n",
    "    log_dir = './logs' \n",
    "    db_path = \"./log_db\"\n",
    "    all_logs = []\n",
    "\n",
    "    for file in os.listdir(log_dir):\n",
    "        with open(os.path.join(log_dir, file)) as f:\n",
    "            all_logs.extend([f\"{file}: {line.strip()}\" for line in f.readlines()[:50]]) \n",
    "    summary = \"\\n\".join(all_logs) or \"No log files found\"\n",
    "    \n",
    "    # Check if log directory exists\n",
    "    if not os.path.exists(db_path) and os.path.isdir(db_path):\n",
    "        # splitting\n",
    "        splitter = RecursiveCharacterTextSplitter(chunk_size=500, chunk_overlap=50)\n",
    "        chunks = splitter.create_documents([summary])    \n",
    "        \n",
    "        # embedding\n",
    "        embedding = OllamaEmbeddings(model=\"nomic-embed-text\")\n",
    "        db = Chroma.from_documents(chunks, embedding, persist_directory=db_path)\n",
    "        db.persist()\n",
    "        summary += \"\\n\\n[Embedding] DB already exists\"\n",
    "    else:\n",
    "        summary += \"\\n\\n[Embedding] No DB found (skipped creation)\"\n",
    "    \n",
    "    return summary"
   ]
  },
  {
   "cell_type": "code",
   "execution_count": 3,
   "id": "c13366f5",
   "metadata": {},
   "outputs": [
    {
     "name": "stderr",
     "output_type": "stream",
     "text": [
      "C:\\Users\\Korisnik\\AppData\\Local\\Temp\\ipykernel_3232\\3060087492.py:24: LangChainDeprecationWarning: LangChain agents will continue to be supported, but it is recommended for new use cases to be built with LangGraph. LangGraph offers a more flexible and full-featured framework for building agents, including support for tool-calling, persistence of state, and human-in-the-loop workflows. For details, refer to the `LangGraph documentation <https://langchain-ai.github.io/langgraph/>`_ as well as guides for `Migrating from AgentExecutor <https://python.langchain.com/docs/how_to/migrate_agent/>`_ and LangGraph's `Pre-built ReAct agent <https://langchain-ai.github.io/langgraph/how-tos/create-react-agent/>`_.\n",
      "  agent = initialize_agent(\n"
     ]
    }
   ],
   "source": [
    "from langchain.agents import initialize_agent, AgentType\n",
    "from langchain.tools import tool\n",
    "\n",
    "# Define tools\n",
    "@tool\n",
    "def add_number(a: int, b: int) -> int:\n",
    "    \"\"\"Add two numbers and return the result\"\"\"\n",
    "    return int(a) + int(b)\n",
    "\n",
    "@tool\n",
    "def substract_number(a: int, b: int) -> int:\n",
    "    \"\"\"Subtract two numbers and return the result\"\"\"\n",
    "    return int(a) - int(b)\n",
    "\n",
    "@tool\n",
    "def multiply_number(a: int, b: int) -> int:\n",
    "    \"\"\"Multiply two numbers and return the result\"\"\"\n",
    "    return int(a) * int(b)\n",
    "\n",
    "# Register tools\n",
    "tools = [add_number, substract_number, multiply_number, summarize_log] \n",
    "\n",
    "# Create agent (use structured chat to support multi-input tools)\n",
    "agent = initialize_agent(\n",
    "    tools=tools,\n",
    "    llm=llm,\n",
    "    agent=AgentType.STRUCTURED_CHAT_ZERO_SHOT_REACT_DESCRIPTION,\n",
    "    verbose=True\n",
    ")"
   ]
  },
  {
   "cell_type": "code",
   "execution_count": 4,
   "id": "e490e23a",
   "metadata": {},
   "outputs": [
    {
     "data": {
      "text/plain": [
       "{'add_number': StructuredTool(name='add_number', description='Add two numbers and return the result', args_schema=<class 'langchain_core.utils.pydantic.add_number'>, func=<function add_number at 0x000001CCF2C92CA0>),\n",
       " 'substract_number': StructuredTool(name='substract_number', description='Subtract two numbers and return the result', args_schema=<class 'langchain_core.utils.pydantic.substract_number'>, func=<function substract_number at 0x000001CCFEDE4FE0>),\n",
       " 'multiply_number': StructuredTool(name='multiply_number', description='Multiply two numbers and return the result', args_schema=<class 'langchain_core.utils.pydantic.multiply_number'>, func=<function multiply_number at 0x000001CCFF4EEC00>),\n",
       " 'summarize_log': StructuredTool(name='summarize_log', description=\"Read and return summary of the first few lines from each .log file. DON'T get into details of them.\", args_schema=<class 'langchain_core.utils.pydantic.summarize_log'>, func=<function summarize_log at 0x000001CCFA97A660>)}"
      ]
     },
     "execution_count": 4,
     "metadata": {},
     "output_type": "execute_result"
    }
   ],
   "source": [
    "tool_by_name = {tool.name: tool for tool in tools}\n",
    "tool_by_name"
   ]
  },
  {
   "cell_type": "code",
   "execution_count": null,
   "id": "35f18162",
   "metadata": {},
   "outputs": [],
   "source": [
    "#query = \"What is the sum of 20 and 40\"\n",
    "query = \"What are the errors in my logs?\"\n",
    "#query = \"Hown WudfCoInstaller are in log file?\"\n",
    "\n",
    "results = agent.run(query)\n",
    "print(results)"
   ]
  }
 ],
 "metadata": {
  "kernelspec": {
   "display_name": ".venv (3.12.6)",
   "language": "python",
   "name": "python3"
  },
  "language_info": {
   "codemirror_mode": {
    "name": "ipython",
    "version": 3
   },
   "file_extension": ".py",
   "mimetype": "text/x-python",
   "name": "python",
   "nbconvert_exporter": "python",
   "pygments_lexer": "ipython3",
   "version": "3.12.6"
  }
 },
 "nbformat": 4,
 "nbformat_minor": 5
}
