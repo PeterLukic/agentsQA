{
 "cells": [
  {
   "cell_type": "code",
   "execution_count": null,
   "id": "ec6d9887",
   "metadata": {},
   "outputs": [],
   "source": [
    "#%pip install -U autogenstudio\n",
    "#autogenstudio ui --port 8080 --appdir ./myapp\n",
    "#%pip install autogen\n",
    "#%pip install \"autogen-ext[ollama]\""
   ]
  },
  {
   "cell_type": "code",
   "execution_count": null,
   "id": "f493b933",
   "metadata": {},
   "outputs": [],
   "source": [
    "from autogen import AssistantAgent, UserProxyAgent\n",
    "\n",
    "llm_config = {\n",
    "    \"config_list\": [{\n",
    "        \"model\": \"gemma3:1b\",\n",
    "        \"base_url\": \"http://localhost:11434/v1\",\n",
    "        \"api_key\": \"ollama\",\n",
    "        \"price\": [0, 0]  # no cost since it's local\n",
    "    }]     \n",
    "}"
   ]
  },
  {
   "cell_type": "code",
   "execution_count": null,
   "id": "568801ef",
   "metadata": {},
   "outputs": [],
   "source": [
    "#qa_assistant = AssistantAgent(\n",
    "    #name=\"QAAssistant\",\n",
    "    #description=\"This agent is for QA operation\",\n",
    "    #system_message=\"You are a helpful QA assistant who canwrite BDD scenarios. You create not more than test cases asked by user\",\n",
    "    #llm_config=llm_config\n",
    "#)\n",
    "\n",
    "qa_assistant = AssistantAgent(\n",
    "    name=\"QAAssistant\",\n",
    "    description=\"This agent is for QA operation\",\n",
    "    system_message=(\n",
    "        \"You are a helpful QA assistant. \"\n",
    "        \"When asked, you must immediately create the requested number of BDD test cases. \"\n",
    "        \"Do not ask clarifying questions. \"\n",
    "        \"Always output them in proper Gherkin format.\"\n",
    "    ),\n",
    "    llm_config=llm_config\n",
    ")"
   ]
  },
  {
   "cell_type": "code",
   "execution_count": null,
   "id": "5c514e58",
   "metadata": {},
   "outputs": [],
   "source": [
    "qa_lead = UserProxyAgent(\n",
    "    name=\"QALead\",\n",
    "    human_input_mode=\"NEVER\",\n",
    "    system_message=\"You are a QA lead asking questions.\",\n",
    "    code_execution_config=False \n",
    ")"
   ]
  },
  {
   "cell_type": "code",
   "execution_count": null,
   "id": "e9ddaa7e",
   "metadata": {},
   "outputs": [],
   "source": [
    "qa_lead.initiate_chat(\n",
    "    recipient=qa_assistant,\n",
    "    max_turns=2,\n",
    "    initial_message=\"Create ONLY 1 BDD test cases for login functionality of a website\"\n",
    ")"
   ]
  }
 ],
 "metadata": {
  "kernelspec": {
   "display_name": ".venv (3.12.6)",
   "language": "python",
   "name": "python3"
  },
  "language_info": {
   "codemirror_mode": {
    "name": "ipython",
    "version": 3
   },
   "file_extension": ".py",
   "mimetype": "text/x-python",
   "name": "python",
   "nbconvert_exporter": "python",
   "pygments_lexer": "ipython3",
   "version": "3.12.6"
  }
 },
 "nbformat": 4,
 "nbformat_minor": 5
}
